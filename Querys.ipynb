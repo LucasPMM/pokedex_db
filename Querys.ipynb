{
 "cells": [
  {
   "cell_type": "code",
   "execution_count": null,
   "metadata": {},
   "outputs": [],
   "source": [
    "import sqlite3 as sql\n",
    "import pandas as pd"
   ]
  },
  {
   "cell_type": "code",
   "execution_count": null,
   "metadata": {},
   "outputs": [],
   "source": [
    "conn = sql.connect('pokedex.db')\n",
    "c = conn.cursor()\n",
    "\n",
    "def executeScriptsFromFile(filename):\n",
    "    # Open and read the file as a single buffer\n",
    "    fd = open(filename, 'r')\n",
    "    sqlFile = fd.read()\n",
    "    fd.close()\n",
    "\n",
    "    # all SQL commands (split on ';')\n",
    "    sqlCommands = sqlFile.split(';')\n",
    "\n",
    "    # Execute every command from the input file\n",
    "    for command in sqlCommands:\n",
    "        c.execute(command)"
   ]
  },
  {
   "cell_type": "code",
   "execution_count": null,
   "metadata": {},
   "outputs": [],
   "source": [
    "executeScriptsFromFile('sql/criacao_tabelas.sql')\n",
    "\n",
    "executeScriptsFromFile('sql/adc_pokemon.sql')\n",
    "executeScriptsFromFile('sql/adc_tipos_pokemon.sql')\n",
    "executeScriptsFromFile('sql/adc_ataques.sql')\n",
    "executeScriptsFromFile('sql/adc_uso_ataque.sql')\n",
    "executeScriptsFromFile('sql/adc_habilidades.sql')\n",
    "executeScriptsFromFile('sql/adc_uso_habilidades.sql')\n",
    "executeScriptsFromFile('sql/adc_uso_pokemon.sql')\n",
    "executeScriptsFromFile('sql/add_evolucoes.sql')\n",
    "executeScriptsFromFile('sql/adc_aliados.sql')"
   ]
  },
  {
   "cell_type": "code",
   "execution_count": null,
   "metadata": {},
   "outputs": [],
   "source": [
    "# Consulta 4.1 (Funções de Agregação):\n",
    "# Retorna o Pokemon mais utilizado em batalhas durante todo o tempo de 2014 a 2019\n",
    "# (do nível OU de batalha da Smogon)\n",
    "consulta4_1 = pd.read_sql_query('SELECT nome'\n",
    "                         + ' FROM Pokemon NATURAL JOIN UsoPokemon'\n",
    "                         + ' WHERE porcentagem = '\n",
    "                         + '(SELECT MAX(porcentagem) FROM UsoPokemon)', conn)\n",
    "consulta4_1"
   ]
  },
  {
   "cell_type": "code",
   "execution_count": null,
   "metadata": {},
   "outputs": [],
   "source": [
    "# Consulta 4.1 (Funções de Agregação):\n",
    "# Retorna uma lista com os anos e os tipos utilizados em batalhas,\n",
    "# agrupados por ano (decrescente) por ordem de uso (do mais utilizado ao menos utilizado daquele ano)\n",
    "# (do nível OU de batalha da Smogon)\n",
    "consulta4_2 = pd.read_sql_query('SELECT ano, tipo'\n",
    "                                + ' FROM UsoPokemon NATURAL JOIN Pokemon NATURAL JOIN TipoPokemon'\n",
    "                                + ' GROUP BY ano, tipo'\n",
    "                                + ' ORDER BY ano DESC, AVG(porcentagem) DESC', conn)\n",
    "consulta4_2"
   ]
  },
  {
   "cell_type": "code",
   "execution_count": null,
   "metadata": {},
   "outputs": [],
   "source": []
  }
 ],
 "metadata": {
  "kernelspec": {
   "display_name": "Python 3",
   "language": "python",
   "name": "python3"
  },
  "language_info": {
   "codemirror_mode": {
    "name": "ipython",
    "version": 3
   },
   "file_extension": ".py",
   "mimetype": "text/x-python",
   "name": "python",
   "nbconvert_exporter": "python",
   "pygments_lexer": "ipython3",
   "version": "3.7.3"
  }
 },
 "nbformat": 4,
 "nbformat_minor": 2
}
