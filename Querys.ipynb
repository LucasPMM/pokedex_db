{
 "cells": [
  {
   "cell_type": "code",
   "execution_count": 1,
   "metadata": {},
   "outputs": [],
   "source": [
    "import sqlite3 as sql\n",
    "import pandas as pd"
   ]
  },
  {
   "cell_type": "code",
   "execution_count": 2,
   "metadata": {},
   "outputs": [],
   "source": [
    "conn = sql.connect('pokedex.db')\n",
    "c = conn.cursor()\n",
    "\n",
    "def executeScriptsFromFile(filename):\n",
    "    # Open and read the file as a single buffer\n",
    "    fd = open(filename, 'r')\n",
    "    sqlFile = fd.read()\n",
    "    fd.close()\n",
    "\n",
    "    # all SQL commands (split on ';')\n",
    "    sqlCommands = sqlFile.split(';')\n",
    "\n",
    "    # Execute every command from the input file\n",
    "    for command in sqlCommands:\n",
    "        c.execute(command)"
   ]
  },
  {
   "cell_type": "code",
   "execution_count": null,
   "metadata": {},
   "outputs": [],
   "source": [
    "executeScriptsFromFile('sql/criacao_tabelas.sql')\n",
    "\n",
    "executeScriptsFromFile('sql/adc_pokemon.sql')\n",
    "executeScriptsFromFile('sql/adc_tipos_pokemon.sql')\n",
    "executeScriptsFromFile('sql/adc_ataques.sql')\n",
    "executeScriptsFromFile('sql/adc_uso_ataque.sql')\n",
    "executeScriptsFromFile('sql/adc_habilidades.sql')\n",
    "executeScriptsFromFile('sql/adc_uso_habilidades.sql')\n",
    "executeScriptsFromFile('sql/adc_uso_pokemon.sql')\n",
    "executeScriptsFromFile('sql/add_evolucoes.sql')\n",
    "executeScriptsFromFile('sql/adc_aliados.sql')"
   ]
  },
  {
   "cell_type": "code",
   "execution_count": null,
   "metadata": {},
   "outputs": [],
   "source": [
    "# Consulta 1.1 (Operações de Seleção e Projeção simples)\n",
    "# Lista os conteúdos da tabela Pokémon (Nome do pokemon, junto com\n",
    "# sua descrição e número)\n",
    "consulta1_1 = pd.read_sql_query(\"SELECT *\"\n",
    "                                + \"FROM Pokemon\", conn)\n",
    "consulta1_1"
   ]
  },
  {
   "cell_type": "code",
   "execution_count": null,
   "metadata": {},
   "outputs": [],
   "source": [
    "# Consulta 1.2 (Operações de Seleção e Projeção simples)\n",
    "# Lista os conteúdos da tabela Ataques (Nomes dos ataques, junto\n",
    "# da sua descrição, tipo e número de identificação)\n",
    "consulta1_2 = pd.read_sql_query(\"SELECT *\"\n",
    "                                + \"FROM Ataque\", conn)\n",
    "consulta1_2"
   ]
  },
  {
   "cell_type": "code",
   "execution_count": null,
   "metadata": {},
   "outputs": [],
   "source": [
    "# Consulta 2.1 (Junção de 2 Relações)\n",
    "# Lista os Pokémons que são do tipo fogo e agua simultaneamente\n",
    "consulta2_1 = pd.read_sql_query(\"SELECT nome\"\n",
    "                                + \" FROM Pokemon NATURAL JOIN TipoPokemon\"\n",
    "                                + \" WHERE tipo = 'fogo' AND nome IN(SELECT nome\"\n",
    "                                + \" FROM Pokemon NATURAL JOIN TipoPokemon\"\n",
    "                                + \" WHERE tipo = 'agua')\", conn)\n",
    "consulta2_1"
   ]
  },
  {
   "cell_type": "code",
   "execution_count": null,
   "metadata": {},
   "outputs": [],
   "source": [
    "# Consulta 2.2 (Junção de 2 Relações)\n",
    "# Lista os Pokémons que não possuem evolução\n",
    "# e que não são evolução de outro pokemon.\n",
    "# A junção de 2 Relações se encontra no 2º SELECT \n",
    "consulta2_2 = pd.read_sql_query(\"SELECT nome\"\n",
    "                                + \" FROM Pokemon\"\n",
    "                                + \" WHERE nome NOT IN(SELECT DISTINCT nome\"\n",
    "                                + \" FROM Pokemon JOIN Evolucao ON id_de = id_pokemon OR id_para = id_pokemon)\"\n",
    "                                , conn)\n",
    "consulta2_2"
   ]
  },
  {
   "cell_type": "code",
   "execution_count": null,
   "metadata": {},
   "outputs": [],
   "source": [
    "# Consulta 2.3 (Junção de 2 Relações)\n",
    "# Lista os Pokémons com uso maior ou igual a 25%\n",
    "# mostrando seu nome, o ano, mes e a porcentagem\n",
    "# com os anos em ordem decrescente e os meses de cada ano de forma crescente\n",
    "# (dados de porcentagem de uso do nível OU de batalha da Smogon)\n",
    "consulta2_3 = pd.read_sql_query(\"SELECT nome, ano, mes, porcentagem\"\n",
    "                                + \" FROM Pokemon NATURAL JOIN UsoPokemon\"\n",
    "                                + \" WHERE porcentagem >= 0.25\"\n",
    "                                + \" ORDER BY ano DESC, mes ASC\", conn)\n",
    "consulta2_3"
   ]
  },
  {
   "cell_type": "code",
   "execution_count": null,
   "metadata": {
    "scrolled": true
   },
   "outputs": [],
   "source": [
    "# Consulta 3.1 (Junção de 3 ou mais Relações)\n",
    "# Lista de Habilidades por Pokemon, em ordem de uso (mais usadas às menos usadas)\n",
    "# (dados de porcentagem de uso do nível OU de batalha da Smogon)\n",
    "consulta3_1 = pd.read_sql_query('SELECT p.nome, h.nome, h.descricao'\n",
    "                                + ' FROM (Habilidade AS h NATURAL JOIN UsoHabilidade AS uh)'\n",
    "                                + ' JOIN Pokemon AS p ON p.id_pokemon = uh.id_pokemon'\n",
    "                                + ' GROUP BY p.id_pokemon, h.id_habilidade'\n",
    "                                + ' ORDER BY p.id_pokemon ASC, uh.porcentagem DESC', conn)\n",
    "consulta3_1"
   ]
  },
  {
   "cell_type": "code",
   "execution_count": null,
   "metadata": {},
   "outputs": [],
   "source": [
    "# Consulta 3.2 (Junção de 3 ou mais Relações)\n",
    "# Lista de Ataques por Pokemon, em ordem de uso (mais usadas às menos usadas)\n",
    "# (dados de porcentagem de uso do nível OU de batalha da Smogon)\n",
    "consulta3_2 = pd.read_sql_query('SELECT p.nome, a.nome, a.descricao'\n",
    "                                + ' FROM (Ataque AS a NATURAL JOIN UsoAtaque AS ua)'\n",
    "                                + ' JOIN Pokemon AS p ON p.id_pokemon = ua.id_pokemon'\n",
    "                                + ' GROUP BY p.id_pokemon, a.id_ataque'\n",
    "                                + ' ORDER BY p.id_pokemon ASC, ua.porcentagem DESC', conn)\n",
    "consulta3_2"
   ]
  },
  {
   "cell_type": "code",
   "execution_count": null,
   "metadata": {},
   "outputs": [],
   "source": [
    "# Consulta 3.3 (Junção de 3 ou mais Relações)\n",
    "# Lista de Pokemons que, em um dado mês e ano, já foram mais utilizados em batalha\n",
    "# do que suas evoluções, e qual evolução à que se refere\n",
    "# (dados de porcentagem de uso do nível OU de batalha da Smogon)\n",
    "consulta3_3 = pd.read_sql_query('SELECT DISTINCT p1.nome, p2.nome'\n",
    "                                + ' FROM (((Pokemon NATURAL JOIN UsoPokemon) AS p1 JOIN Evolucao as ev'\n",
    "                                + ' ON p1.id_pokemon = ev.id_de) JOIN (Pokemon NATURAL JOIN UsoPokemon) as p2'\n",
    "                                + ' ON p2.id_pokemon = ev.id_para)'\n",
    "                                + ' WHERE p1.ano = p2.ano AND p1.mes = p2.mes'\n",
    "                                + ' AND p1.porcentagem > p2.porcentagem', conn)\n",
    "consulta3_3"
   ]
  },
  {
   "cell_type": "code",
   "execution_count": null,
   "metadata": {},
   "outputs": [],
   "source": [
    "# Consulta 4.1 (Funções de Agregação):\n",
    "# Retorna o Pokemon mais utilizado em batalhas durante todo o tempo de 2014 a 2019\n",
    "# (do nível OU de batalha da Smogon)\n",
    "consulta4_1 = pd.read_sql_query('SELECT nome'\n",
    "                         + ' FROM Pokemon NATURAL JOIN UsoPokemon'\n",
    "                         + ' WHERE porcentagem = '\n",
    "                         + '(SELECT MAX(porcentagem) FROM UsoPokemon)', conn)\n",
    "consulta4_1"
   ]
  },
  {
   "cell_type": "code",
   "execution_count": null,
   "metadata": {},
   "outputs": [],
   "source": [
    "# Consulta 4.1 (Funções de Agregação):\n",
    "# Retorna uma lista com os anos e os tipos utilizados em batalhas,\n",
    "# agrupados por ano (decrescente) por ordem de uso (do mais utilizado ao menos utilizado daquele ano)\n",
    "# (do nível OU de batalha da Smogon)\n",
    "consulta4_2 = pd.read_sql_query('SELECT ano, tipo'\n",
    "                                + ' FROM UsoPokemon NATURAL JOIN Pokemon NATURAL JOIN TipoPokemon'\n",
    "                                + ' GROUP BY ano, tipo'\n",
    "                                + ' ORDER BY ano DESC, AVG(porcentagem) DESC', conn)\n",
    "consulta4_2"
   ]
  },
  {
   "cell_type": "code",
   "execution_count": null,
   "metadata": {},
   "outputs": [],
   "source": [
    "# Relatório 1: Porcentagem de uso de habilidade por Pokémon\n",
    "# no mês de dezembro de 2018\n",
    "# (dados de porcentagem de uso do nível OU de batalha da Smogon)\n",
    "relatorio_1 = pd.read_sql_query(\"SELECT p.nome AS pokemon, h.nome AS habilidade, uh.porcentagem\"\n",
    "                                + \" FROM (Habilidade AS h NATURAL JOIN UsoHabilidade AS uh)\"\n",
    "                                + \" JOIN Pokemon AS p ON p.id_pokemon = uh.id_pokemon\"\n",
    "                                + \" WHERE ano = 2018 AND mes = 12\"\n",
    "                                + \" ORDER BY p.id_pokemon ASC\", conn)\n",
    "relatorio_1"
   ]
  },
  {
   "cell_type": "code",
   "execution_count": null,
   "metadata": {},
   "outputs": [],
   "source": [
    "# Relatório 2: Porcentagem de uso de Ataque por Pokémon\n",
    "# no mês de agosto de 2015\n",
    "# (dados de porcentagem de uso do nível OU de batalha da Smogon)\n",
    "relatorio_2 = pd.read_sql_query('SELECT p.nome AS pokemon, a.nome AS ataque, ua.porcentagem'\n",
    "                                + ' FROM (Ataque AS a NATURAL JOIN UsoAtaque AS ua)'\n",
    "                                + ' JOIN Pokemon AS p ON p.id_pokemon = ua.id_pokemon'\n",
    "                                + ' WHERE ano = 2015 AND mes = 8'\n",
    "                                + ' ORDER BY p.id_pokemon ASC', conn)\n",
    "relatorio_2"
   ]
  },
  {
   "cell_type": "code",
   "execution_count": null,
   "metadata": {},
   "outputs": [],
   "source": [
    "# Relatório 3: Lista de Aliados Comuns por Pokemon\n",
    "# no mês de abril de 2017\n",
    "# (dados de porcentagem de uso do nível OU de batalha da Smogon)\n",
    "relatorio_3 = pd.read_sql_query(\"SELECT p1.nome AS pokemon, p2.nome AS aliado, a.porcentagem\"\n",
    "                                + \" FROM (Pokemon AS p1 JOIN AliadosComuns AS a\"\n",
    "                                + \" ON p1.id_pokemon = a.id_pokemon) JOIN Pokemon AS p2\"\n",
    "                                + \" ON p2.id_pokemon = a.id_aliado\"\n",
    "                                + \" WHERE ano = 2017 AND mes = 4\"\n",
    "                                + \" ORDER BY p1.id_pokemon ASC\", conn) \n",
    "relatorio_3"
   ]
  }
 ],
 "metadata": {
  "kernelspec": {
   "display_name": "Python 3",
   "language": "python",
   "name": "python3"
  },
  "language_info": {
   "codemirror_mode": {
    "name": "ipython",
    "version": 3
   },
   "file_extension": ".py",
   "mimetype": "text/x-python",
   "name": "python",
   "nbconvert_exporter": "python",
   "pygments_lexer": "ipython3",
   "version": "3.7.3"
  }
 },
 "nbformat": 4,
 "nbformat_minor": 2
}
